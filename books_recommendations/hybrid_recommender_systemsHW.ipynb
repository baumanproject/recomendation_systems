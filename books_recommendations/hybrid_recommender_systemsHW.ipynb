{
  "nbformat": 4,
  "nbformat_minor": 0,
  "metadata": {
    "kernelspec": {
      "display_name": "Python 3",
      "language": "python",
      "name": "python3"
    },
    "language_info": {
      "codemirror_mode": {
        "name": "ipython",
        "version": 3
      },
      "file_extension": ".py",
      "mimetype": "text/x-python",
      "name": "python",
      "nbconvert_exporter": "python",
      "pygments_lexer": "ipython3",
      "version": "3.8.0"
    },
    "colab": {
      "name": "hybrid_recommender_systemsHW.ipynb",
      "provenance": [],
      "collapsed_sections": [],
      "toc_visible": true
    }
  },
  "cells": [
    {
      "cell_type": "markdown",
      "metadata": {
        "id": "I_2sLC50_qNC"
      },
      "source": [
        "## Гибридные рекомендательные системы с Surprise: взвешенный подход\n",
        "### Мы используем Suprise (пакет sci-kit для рекомендательных систем), чтобы гарантировать, что рекомендательные системы, которые мы используем, оптимизированы, чтобы когда мы объединили их - не беспокоились о недостатках, возникающих в отдельной реализации. "
      ]
    },
    {
      "cell_type": "code",
      "metadata": {
        "colab": {
          "base_uri": "https://localhost:8080/"
        },
        "id": "0lq61mJWAGR_",
        "outputId": "d2ccff69-20c4-4c31-c311-9daeac7dba36"
      },
      "source": [
        "from google.colab import drive\r\n",
        "drive.mount('/content/drive')"
      ],
      "execution_count": 1,
      "outputs": [
        {
          "output_type": "stream",
          "text": [
            "Mounted at /content/drive\n"
          ],
          "name": "stdout"
        }
      ]
    },
    {
      "cell_type": "code",
      "metadata": {
        "colab": {
          "base_uri": "https://localhost:8080/"
        },
        "id": "rIWAqkx4AaA6",
        "outputId": "f453b831-e78c-4093-d6f5-9c93652e7e19"
      },
      "source": [
        "!pip install surprise"
      ],
      "execution_count": 2,
      "outputs": [
        {
          "output_type": "stream",
          "text": [
            "Collecting surprise\n",
            "  Downloading https://files.pythonhosted.org/packages/61/de/e5cba8682201fcf9c3719a6fdda95693468ed061945493dea2dd37c5618b/surprise-0.1-py2.py3-none-any.whl\n",
            "Collecting scikit-surprise\n",
            "\u001b[?25l  Downloading https://files.pythonhosted.org/packages/97/37/5d334adaf5ddd65da99fc65f6507e0e4599d092ba048f4302fe8775619e8/scikit-surprise-1.1.1.tar.gz (11.8MB)\n",
            "\u001b[K     |████████████████████████████████| 11.8MB 5.2MB/s \n",
            "\u001b[?25hRequirement already satisfied: joblib>=0.11 in /usr/local/lib/python3.6/dist-packages (from scikit-surprise->surprise) (1.0.0)\n",
            "Requirement already satisfied: numpy>=1.11.2 in /usr/local/lib/python3.6/dist-packages (from scikit-surprise->surprise) (1.19.5)\n",
            "Requirement already satisfied: scipy>=1.0.0 in /usr/local/lib/python3.6/dist-packages (from scikit-surprise->surprise) (1.4.1)\n",
            "Requirement already satisfied: six>=1.10.0 in /usr/local/lib/python3.6/dist-packages (from scikit-surprise->surprise) (1.15.0)\n",
            "Building wheels for collected packages: scikit-surprise\n",
            "  Building wheel for scikit-surprise (setup.py) ... \u001b[?25l\u001b[?25hdone\n",
            "  Created wheel for scikit-surprise: filename=scikit_surprise-1.1.1-cp36-cp36m-linux_x86_64.whl size=1618264 sha256=96582271c05e78b12433941908991d9d9dd30d25c3b045cd864bfba9947621bd\n",
            "  Stored in directory: /root/.cache/pip/wheels/78/9c/3d/41b419c9d2aff5b6e2b4c0fc8d25c538202834058f9ed110d0\n",
            "Successfully built scikit-surprise\n",
            "Installing collected packages: scikit-surprise, surprise\n",
            "Successfully installed scikit-surprise-1.1.1 surprise-0.1\n"
          ],
          "name": "stdout"
        }
      ]
    },
    {
      "cell_type": "code",
      "metadata": {
        "_cell_guid": "b1076dfc-b9ad-4769-8c92-a6c4dae69d19",
        "_uuid": "8f2839f25d086af736a60e9eeb907d3b93b6e0e5",
        "id": "TMe-m6gT_qNJ"
      },
      "source": [
        "import surprise\n",
        "from surprise import KNNBasic\n",
        "from surprise import Dataset\n",
        "from surprise import Reader\n",
        "from surprise import model_selection\n",
        "from surprise import accuracy\n",
        "from surprise import prediction_algorithms\n",
        "import pickle\n",
        "\n",
        "\n",
        "import numpy as np \n",
        "import pandas as pd \n",
        "from sklearn.model_selection import train_test_split\n",
        "import os\n",
        "path = \"/\""
      ],
      "execution_count": 3,
      "outputs": []
    },
    {
      "cell_type": "markdown",
      "metadata": {
        "id": "_AwaruDS_qNK"
      },
      "source": [
        "Во-первых, давайте прочитаем и очистим набор данных, чтобы мы знали, с чем работаем.\n",
        "1. Считайте pandas датафрейм ratings.csv\n",
        "2. Удалите дублированные строки\n",
        "3. Сколько уникальных книг и пользователей в датасете?\n",
        "4. В каком интервале рейтинг?"
      ]
    },
    {
      "cell_type": "markdown",
      "metadata": {
        "id": "K4XoT7pE_qNK"
      },
      "source": [
        "### 1. Считайте pandas датафрейм ratings.csv"
      ]
    },
    {
      "cell_type": "code",
      "metadata": {
        "colab": {
          "base_uri": "https://localhost:8080/",
          "height": 402
        },
        "id": "Q8kB-1wa_qNL",
        "outputId": "9a0c788e-29d5-48f1-d2cf-00c4eab0c435"
      },
      "source": [
        "ratings = pd.read_csv('/content/drive/MyDrive/ratings.csv')\n",
        "ratings"
      ],
      "execution_count": 4,
      "outputs": [
        {
          "output_type": "execute_result",
          "data": {
            "text/html": [
              "<div>\n",
              "<style scoped>\n",
              "    .dataframe tbody tr th:only-of-type {\n",
              "        vertical-align: middle;\n",
              "    }\n",
              "\n",
              "    .dataframe tbody tr th {\n",
              "        vertical-align: top;\n",
              "    }\n",
              "\n",
              "    .dataframe thead th {\n",
              "        text-align: right;\n",
              "    }\n",
              "</style>\n",
              "<table border=\"1\" class=\"dataframe\">\n",
              "  <thead>\n",
              "    <tr style=\"text-align: right;\">\n",
              "      <th></th>\n",
              "      <th>book_id</th>\n",
              "      <th>user_id</th>\n",
              "      <th>rating</th>\n",
              "    </tr>\n",
              "  </thead>\n",
              "  <tbody>\n",
              "    <tr>\n",
              "      <th>0</th>\n",
              "      <td>1</td>\n",
              "      <td>314</td>\n",
              "      <td>5</td>\n",
              "    </tr>\n",
              "    <tr>\n",
              "      <th>1</th>\n",
              "      <td>1</td>\n",
              "      <td>439</td>\n",
              "      <td>3</td>\n",
              "    </tr>\n",
              "    <tr>\n",
              "      <th>2</th>\n",
              "      <td>1</td>\n",
              "      <td>588</td>\n",
              "      <td>5</td>\n",
              "    </tr>\n",
              "    <tr>\n",
              "      <th>3</th>\n",
              "      <td>1</td>\n",
              "      <td>1169</td>\n",
              "      <td>4</td>\n",
              "    </tr>\n",
              "    <tr>\n",
              "      <th>4</th>\n",
              "      <td>1</td>\n",
              "      <td>1185</td>\n",
              "      <td>4</td>\n",
              "    </tr>\n",
              "    <tr>\n",
              "      <th>...</th>\n",
              "      <td>...</td>\n",
              "      <td>...</td>\n",
              "      <td>...</td>\n",
              "    </tr>\n",
              "    <tr>\n",
              "      <th>981751</th>\n",
              "      <td>10000</td>\n",
              "      <td>48386</td>\n",
              "      <td>5</td>\n",
              "    </tr>\n",
              "    <tr>\n",
              "      <th>981752</th>\n",
              "      <td>10000</td>\n",
              "      <td>49007</td>\n",
              "      <td>4</td>\n",
              "    </tr>\n",
              "    <tr>\n",
              "      <th>981753</th>\n",
              "      <td>10000</td>\n",
              "      <td>49383</td>\n",
              "      <td>5</td>\n",
              "    </tr>\n",
              "    <tr>\n",
              "      <th>981754</th>\n",
              "      <td>10000</td>\n",
              "      <td>50124</td>\n",
              "      <td>5</td>\n",
              "    </tr>\n",
              "    <tr>\n",
              "      <th>981755</th>\n",
              "      <td>10000</td>\n",
              "      <td>51328</td>\n",
              "      <td>1</td>\n",
              "    </tr>\n",
              "  </tbody>\n",
              "</table>\n",
              "<p>981756 rows × 3 columns</p>\n",
              "</div>"
            ],
            "text/plain": [
              "        book_id  user_id  rating\n",
              "0             1      314       5\n",
              "1             1      439       3\n",
              "2             1      588       5\n",
              "3             1     1169       4\n",
              "4             1     1185       4\n",
              "...         ...      ...     ...\n",
              "981751    10000    48386       5\n",
              "981752    10000    49007       4\n",
              "981753    10000    49383       5\n",
              "981754    10000    50124       5\n",
              "981755    10000    51328       1\n",
              "\n",
              "[981756 rows x 3 columns]"
            ]
          },
          "metadata": {
            "tags": []
          },
          "execution_count": 4
        }
      ]
    },
    {
      "cell_type": "markdown",
      "metadata": {
        "id": "jToM3Pbx_qNM"
      },
      "source": [
        "### 2. Удалите дублированные строки"
      ]
    },
    {
      "cell_type": "code",
      "metadata": {
        "colab": {
          "base_uri": "https://localhost:8080/",
          "height": 402
        },
        "id": "hHJtYUNJ_qNM",
        "outputId": "5fd9cf1b-4a86-42bb-eca8-292d49773e26"
      },
      "source": [
        "ratings.drop_duplicates()"
      ],
      "execution_count": 5,
      "outputs": [
        {
          "output_type": "execute_result",
          "data": {
            "text/html": [
              "<div>\n",
              "<style scoped>\n",
              "    .dataframe tbody tr th:only-of-type {\n",
              "        vertical-align: middle;\n",
              "    }\n",
              "\n",
              "    .dataframe tbody tr th {\n",
              "        vertical-align: top;\n",
              "    }\n",
              "\n",
              "    .dataframe thead th {\n",
              "        text-align: right;\n",
              "    }\n",
              "</style>\n",
              "<table border=\"1\" class=\"dataframe\">\n",
              "  <thead>\n",
              "    <tr style=\"text-align: right;\">\n",
              "      <th></th>\n",
              "      <th>book_id</th>\n",
              "      <th>user_id</th>\n",
              "      <th>rating</th>\n",
              "    </tr>\n",
              "  </thead>\n",
              "  <tbody>\n",
              "    <tr>\n",
              "      <th>0</th>\n",
              "      <td>1</td>\n",
              "      <td>314</td>\n",
              "      <td>5</td>\n",
              "    </tr>\n",
              "    <tr>\n",
              "      <th>1</th>\n",
              "      <td>1</td>\n",
              "      <td>439</td>\n",
              "      <td>3</td>\n",
              "    </tr>\n",
              "    <tr>\n",
              "      <th>2</th>\n",
              "      <td>1</td>\n",
              "      <td>588</td>\n",
              "      <td>5</td>\n",
              "    </tr>\n",
              "    <tr>\n",
              "      <th>3</th>\n",
              "      <td>1</td>\n",
              "      <td>1169</td>\n",
              "      <td>4</td>\n",
              "    </tr>\n",
              "    <tr>\n",
              "      <th>4</th>\n",
              "      <td>1</td>\n",
              "      <td>1185</td>\n",
              "      <td>4</td>\n",
              "    </tr>\n",
              "    <tr>\n",
              "      <th>...</th>\n",
              "      <td>...</td>\n",
              "      <td>...</td>\n",
              "      <td>...</td>\n",
              "    </tr>\n",
              "    <tr>\n",
              "      <th>981751</th>\n",
              "      <td>10000</td>\n",
              "      <td>48386</td>\n",
              "      <td>5</td>\n",
              "    </tr>\n",
              "    <tr>\n",
              "      <th>981752</th>\n",
              "      <td>10000</td>\n",
              "      <td>49007</td>\n",
              "      <td>4</td>\n",
              "    </tr>\n",
              "    <tr>\n",
              "      <th>981753</th>\n",
              "      <td>10000</td>\n",
              "      <td>49383</td>\n",
              "      <td>5</td>\n",
              "    </tr>\n",
              "    <tr>\n",
              "      <th>981754</th>\n",
              "      <td>10000</td>\n",
              "      <td>50124</td>\n",
              "      <td>5</td>\n",
              "    </tr>\n",
              "    <tr>\n",
              "      <th>981755</th>\n",
              "      <td>10000</td>\n",
              "      <td>51328</td>\n",
              "      <td>1</td>\n",
              "    </tr>\n",
              "  </tbody>\n",
              "</table>\n",
              "<p>980112 rows × 3 columns</p>\n",
              "</div>"
            ],
            "text/plain": [
              "        book_id  user_id  rating\n",
              "0             1      314       5\n",
              "1             1      439       3\n",
              "2             1      588       5\n",
              "3             1     1169       4\n",
              "4             1     1185       4\n",
              "...         ...      ...     ...\n",
              "981751    10000    48386       5\n",
              "981752    10000    49007       4\n",
              "981753    10000    49383       5\n",
              "981754    10000    50124       5\n",
              "981755    10000    51328       1\n",
              "\n",
              "[980112 rows x 3 columns]"
            ]
          },
          "metadata": {
            "tags": []
          },
          "execution_count": 5
        }
      ]
    },
    {
      "cell_type": "markdown",
      "metadata": {
        "id": "ejF2hL96_qNN"
      },
      "source": [
        "### 3. Сколько уникальных книг и пользователей в датасете?"
      ]
    },
    {
      "cell_type": "code",
      "metadata": {
        "colab": {
          "base_uri": "https://localhost:8080/"
        },
        "id": "lbGpad-G_qNN",
        "outputId": "32cd7245-7aaa-40fd-8e2e-feb9d2ebdde0"
      },
      "source": [
        "unique_books = ratings['book_id'].unique()\n",
        "unique_users = ratings['user_id'].unique()\n",
        "\n",
        "print(f'Count unique books = {len(unique_books)}')\n",
        "print(f'Count unique users = {len(unique_users)}')"
      ],
      "execution_count": 6,
      "outputs": [
        {
          "output_type": "stream",
          "text": [
            "Count unique books = 10000\n",
            "Count unique users = 53424\n"
          ],
          "name": "stdout"
        }
      ]
    },
    {
      "cell_type": "markdown",
      "metadata": {
        "id": "vlJSkvpW_qNO"
      },
      "source": [
        "### 4. В каком интервале рейтинг?"
      ]
    },
    {
      "cell_type": "code",
      "metadata": {
        "colab": {
          "base_uri": "https://localhost:8080/"
        },
        "id": "2mTCB293_qNO",
        "outputId": "8552ed14-89f1-4f30-8781-ce2cb96572ff"
      },
      "source": [
        "lower_rating = min(ratings['rating'])\n",
        "upper_rating = max(ratings['rating'])\n",
        "\n",
        "print(f'Rating has interval {lower_rating} - {upper_rating}')"
      ],
      "execution_count": 7,
      "outputs": [
        {
          "output_type": "stream",
          "text": [
            "Rating has interval 1 - 5\n"
          ],
          "name": "stdout"
        }
      ]
    },
    {
      "cell_type": "markdown",
      "metadata": {
        "id": "l1HKAiW__qNO"
      },
      "source": [
        "Всякий раз, когда вы загружаете набор данных в Surprise, вы можете использовать их класс Reader набора данных, который облегчает большую часть проблем. Вы можете указать множество форматов файлов, но для фреймов данных pandas, которые мы используем, вы можете указать некоторые параметры для рейтинга (rating_scale) и фрейма данных."
      ]
    },
    {
      "cell_type": "code",
      "metadata": {
        "id": "tRVm-Ggq_qNP"
      },
      "source": [
        "#порядок колонок должен быть таким\n",
        "raw=ratings[['user_id','book_id','rating']]\n",
        "raw.columns = ['n_users','n_items','rating']\n",
        "\n",
        "# укажем scale для рейтинга\n",
        "reader = Reader(rating_scale = (lower_rating, upper_rating)) \n",
        "\n",
        "# разделите на основную и отложенную выборки в соотножении 3:1\n",
        "# и загрузите в surprise dataset:\n",
        "raw_train_raws_count = int (len(ratings) / 4 * 3)\n",
        "raw_holdout_raws_count = int (len(ratings) / 4)\n",
        "raw_train,raw_holdout = raw[:raw_train_raws_count], raw[-raw_holdout_raws_count:]\n",
        "data = Dataset.load_from_df(raw_train, reader)\n",
        "holdout = Dataset.load_from_df(raw_holdout, reader)"
      ],
      "execution_count": 8,
      "outputs": []
    },
    {
      "cell_type": "code",
      "metadata": {
        "colab": {
          "base_uri": "https://localhost:8080/",
          "height": 402
        },
        "id": "O-KtAq1Zp6rw",
        "outputId": "b6278ed3-7edc-4da9-e669-0e7ba611db0a"
      },
      "source": [
        "raw_train"
      ],
      "execution_count": 50,
      "outputs": [
        {
          "output_type": "execute_result",
          "data": {
            "text/html": [
              "<div>\n",
              "<style scoped>\n",
              "    .dataframe tbody tr th:only-of-type {\n",
              "        vertical-align: middle;\n",
              "    }\n",
              "\n",
              "    .dataframe tbody tr th {\n",
              "        vertical-align: top;\n",
              "    }\n",
              "\n",
              "    .dataframe thead th {\n",
              "        text-align: right;\n",
              "    }\n",
              "</style>\n",
              "<table border=\"1\" class=\"dataframe\">\n",
              "  <thead>\n",
              "    <tr style=\"text-align: right;\">\n",
              "      <th></th>\n",
              "      <th>n_users</th>\n",
              "      <th>n_items</th>\n",
              "      <th>rating</th>\n",
              "    </tr>\n",
              "  </thead>\n",
              "  <tbody>\n",
              "    <tr>\n",
              "      <th>0</th>\n",
              "      <td>314</td>\n",
              "      <td>1</td>\n",
              "      <td>5</td>\n",
              "    </tr>\n",
              "    <tr>\n",
              "      <th>1</th>\n",
              "      <td>439</td>\n",
              "      <td>1</td>\n",
              "      <td>3</td>\n",
              "    </tr>\n",
              "    <tr>\n",
              "      <th>2</th>\n",
              "      <td>588</td>\n",
              "      <td>1</td>\n",
              "      <td>5</td>\n",
              "    </tr>\n",
              "    <tr>\n",
              "      <th>3</th>\n",
              "      <td>1169</td>\n",
              "      <td>1</td>\n",
              "      <td>4</td>\n",
              "    </tr>\n",
              "    <tr>\n",
              "      <th>4</th>\n",
              "      <td>1185</td>\n",
              "      <td>1</td>\n",
              "      <td>4</td>\n",
              "    </tr>\n",
              "    <tr>\n",
              "      <th>...</th>\n",
              "      <td>...</td>\n",
              "      <td>...</td>\n",
              "      <td>...</td>\n",
              "    </tr>\n",
              "    <tr>\n",
              "      <th>736312</th>\n",
              "      <td>994</td>\n",
              "      <td>7414</td>\n",
              "      <td>4</td>\n",
              "    </tr>\n",
              "    <tr>\n",
              "      <th>736313</th>\n",
              "      <td>1476</td>\n",
              "      <td>7414</td>\n",
              "      <td>3</td>\n",
              "    </tr>\n",
              "    <tr>\n",
              "      <th>736314</th>\n",
              "      <td>1566</td>\n",
              "      <td>7414</td>\n",
              "      <td>2</td>\n",
              "    </tr>\n",
              "    <tr>\n",
              "      <th>736315</th>\n",
              "      <td>1733</td>\n",
              "      <td>7414</td>\n",
              "      <td>2</td>\n",
              "    </tr>\n",
              "    <tr>\n",
              "      <th>736316</th>\n",
              "      <td>1909</td>\n",
              "      <td>7414</td>\n",
              "      <td>3</td>\n",
              "    </tr>\n",
              "  </tbody>\n",
              "</table>\n",
              "<p>736317 rows × 3 columns</p>\n",
              "</div>"
            ],
            "text/plain": [
              "        n_users  n_items  rating\n",
              "0           314        1       5\n",
              "1           439        1       3\n",
              "2           588        1       5\n",
              "3          1169        1       4\n",
              "4          1185        1       4\n",
              "...         ...      ...     ...\n",
              "736312      994     7414       4\n",
              "736313     1476     7414       3\n",
              "736314     1566     7414       2\n",
              "736315     1733     7414       2\n",
              "736316     1909     7414       3\n",
              "\n",
              "[736317 rows x 3 columns]"
            ]
          },
          "metadata": {
            "tags": []
          },
          "execution_count": 50
        }
      ]
    },
    {
      "cell_type": "code",
      "metadata": {
        "colab": {
          "base_uri": "https://localhost:8080/",
          "height": 402
        },
        "id": "2gHk4NPBsO3c",
        "outputId": "447f8fcf-72e3-4cab-b6e5-6fd06f322b25"
      },
      "source": [
        "raw_holdout"
      ],
      "execution_count": 66,
      "outputs": [
        {
          "output_type": "execute_result",
          "data": {
            "text/html": [
              "<div>\n",
              "<style scoped>\n",
              "    .dataframe tbody tr th:only-of-type {\n",
              "        vertical-align: middle;\n",
              "    }\n",
              "\n",
              "    .dataframe tbody tr th {\n",
              "        vertical-align: top;\n",
              "    }\n",
              "\n",
              "    .dataframe thead th {\n",
              "        text-align: right;\n",
              "    }\n",
              "</style>\n",
              "<table border=\"1\" class=\"dataframe\">\n",
              "  <thead>\n",
              "    <tr style=\"text-align: right;\">\n",
              "      <th></th>\n",
              "      <th>n_users</th>\n",
              "      <th>n_items</th>\n",
              "      <th>rating</th>\n",
              "    </tr>\n",
              "  </thead>\n",
              "  <tbody>\n",
              "    <tr>\n",
              "      <th>736317</th>\n",
              "      <td>2212</td>\n",
              "      <td>7414</td>\n",
              "      <td>5</td>\n",
              "    </tr>\n",
              "    <tr>\n",
              "      <th>736318</th>\n",
              "      <td>2462</td>\n",
              "      <td>7414</td>\n",
              "      <td>4</td>\n",
              "    </tr>\n",
              "    <tr>\n",
              "      <th>736319</th>\n",
              "      <td>2513</td>\n",
              "      <td>7414</td>\n",
              "      <td>3</td>\n",
              "    </tr>\n",
              "    <tr>\n",
              "      <th>736320</th>\n",
              "      <td>2591</td>\n",
              "      <td>7414</td>\n",
              "      <td>2</td>\n",
              "    </tr>\n",
              "    <tr>\n",
              "      <th>736321</th>\n",
              "      <td>2758</td>\n",
              "      <td>7414</td>\n",
              "      <td>4</td>\n",
              "    </tr>\n",
              "    <tr>\n",
              "      <th>...</th>\n",
              "      <td>...</td>\n",
              "      <td>...</td>\n",
              "      <td>...</td>\n",
              "    </tr>\n",
              "    <tr>\n",
              "      <th>981751</th>\n",
              "      <td>48386</td>\n",
              "      <td>10000</td>\n",
              "      <td>5</td>\n",
              "    </tr>\n",
              "    <tr>\n",
              "      <th>981752</th>\n",
              "      <td>49007</td>\n",
              "      <td>10000</td>\n",
              "      <td>4</td>\n",
              "    </tr>\n",
              "    <tr>\n",
              "      <th>981753</th>\n",
              "      <td>49383</td>\n",
              "      <td>10000</td>\n",
              "      <td>5</td>\n",
              "    </tr>\n",
              "    <tr>\n",
              "      <th>981754</th>\n",
              "      <td>50124</td>\n",
              "      <td>10000</td>\n",
              "      <td>5</td>\n",
              "    </tr>\n",
              "    <tr>\n",
              "      <th>981755</th>\n",
              "      <td>51328</td>\n",
              "      <td>10000</td>\n",
              "      <td>1</td>\n",
              "    </tr>\n",
              "  </tbody>\n",
              "</table>\n",
              "<p>245439 rows × 3 columns</p>\n",
              "</div>"
            ],
            "text/plain": [
              "        n_users  n_items  rating\n",
              "736317     2212     7414       5\n",
              "736318     2462     7414       4\n",
              "736319     2513     7414       3\n",
              "736320     2591     7414       2\n",
              "736321     2758     7414       4\n",
              "...         ...      ...     ...\n",
              "981751    48386    10000       5\n",
              "981752    49007    10000       4\n",
              "981753    49383    10000       5\n",
              "981754    50124    10000       5\n",
              "981755    51328    10000       1\n",
              "\n",
              "[245439 rows x 3 columns]"
            ]
          },
          "metadata": {
            "tags": []
          },
          "execution_count": 66
        }
      ]
    },
    {
      "cell_type": "markdown",
      "metadata": {
        "id": "RYblZZGp_qNQ"
      },
      "source": [
        "\n",
        "### Во-первых, выберем несколько алгоритмов для включения в наш ансамбль. Это будут\n",
        "1. KNN совместная фильтрация \n",
        "2. Факторизация матрицы\n",
        "3. Совместная фильтрация с совместной кластеризацией\n",
        "4. Совместная фильтрация на основе популярного алгоритма Slope One."
      ]
    },
    {
      "cell_type": "markdown",
      "metadata": {
        "id": "3ej-RbQF_qNQ"
      },
      "source": [
        "KNN совместная фильтрация:"
      ]
    },
    {
      "cell_type": "code",
      "metadata": {
        "id": "tc68uBL6Mg-t"
      },
      "source": [
        "from sklearn.metrics import mean_squared_error\r\n",
        "from surprise.model_selection import KFold\r\n",
        "from surprise import accuracy\r\n",
        "\r\n",
        "rmse = lambda y_true, y_pred: np.sqrt(mean_squared_error(y_true, y_pred))\r\n",
        "kSplit = surprise.model_selection.split.KFold(n_splits=10, shuffle=True)\r\n",
        "sim_options = sim_options = {'name': 'cosine',\r\n",
        "'user_based': False # Для подсчета сходства\r\n",
        "}\r\n",
        "collabKNN = surprise.KNNBasic(k=40,sim_options=sim_options)\r\n",
        "rmseKNN = []\r\n",
        "# -- TODO --\r\n",
        "for trainset, testset in kSplit.split(data): #проходимся по фолдам\r\n",
        "  collabKNN.fit(trainset)\r\n",
        "  predictions = collabKNN.test(testset)\r\n",
        "  rmseKNN.append(surprise.accuracy.rmse(predictions))\r\n",
        "\r\n",
        "print(rmseKNN)"
      ],
      "execution_count": 12,
      "outputs": []
    },
    {
      "cell_type": "markdown",
      "metadata": {
        "id": "5r87WI-6_qNR"
      },
      "source": [
        "Обучите модель, предскажите значение на test выборке и запишите значение метрики на каждом фолде"
      ]
    },
    {
      "cell_type": "markdown",
      "metadata": {
        "id": "ot2ggVXC_qNS"
      },
      "source": [
        "### Вы можете пробовать разные гиперпараметры, используя Suprise Grid Search CV, чтобы найти наилучшие возможные гиперпараметры."
      ]
    },
    {
      "cell_type": "markdown",
      "metadata": {
        "id": "-2JwQIV1_qNS"
      },
      "source": [
        "\n",
        "### Обучим наш алгоритм матричной факторизации с 30 скрытыми факторами (n_factors=30)\n"
      ]
    },
    {
      "cell_type": "code",
      "metadata": {
        "colab": {
          "base_uri": "https://localhost:8080/"
        },
        "id": "ZLRu3D30edBq",
        "outputId": "9132d702-6e0b-406d-8a77-790eb9757df5"
      },
      "source": [
        "from sklearn.metrics import mean_squared_error\r\n",
        "from surprise.model_selection import KFold\r\n",
        "from surprise import accuracy\r\n",
        "import surprise\r\n",
        "rmse = lambda y_true, y_pred: np.sqrt(mean_squared_error(y_true, y_pred))\r\n",
        "kSplit = surprise.model_selection.split.KFold(n_splits=10, shuffle=True)\r\n",
        "\r\n",
        "funkSVD = prediction_algorithms.matrix_factorization.SVD(n_factors=30,n_epochs=10,biased=True)\r\n",
        "rmseSVD = []\r\n",
        "# -- TODO --\r\n",
        "for trainset, testset in kSplit.split(data): #проходимся по фолдам\r\n",
        "  funkSVD.fit(trainset)\r\n",
        "  predictions = funkSVD.test(testset)\r\n",
        "  rmseSVD.append(surprise.accuracy.rmse(predictions))\r\n",
        "  \r\n",
        "print(rmseSVD)"
      ],
      "execution_count": 18,
      "outputs": [
        {
          "output_type": "stream",
          "text": [
            "RMSE: 0.8481\n",
            "RMSE: 0.8495\n",
            "RMSE: 0.8460\n",
            "RMSE: 0.8483\n",
            "RMSE: 0.8462\n",
            "RMSE: 0.8448\n",
            "RMSE: 0.8447\n",
            "RMSE: 0.8460\n",
            "RMSE: 0.8479\n",
            "RMSE: 0.8492\n",
            "[0.8850943716606551, 0.8811604327708833, 0.888231880320431, 0.884686164668886, 0.8883106890828507, 0.8856424855264906, 0.8891723747410311, 0.8885439512946761, 0.8823733014678838, 0.8930428567682893]\n"
          ],
          "name": "stdout"
        }
      ]
    },
    {
      "cell_type": "code",
      "metadata": {
        "id": "_LVlPkx1_qNS"
      },
      "source": [
        ""
      ],
      "execution_count": null,
      "outputs": []
    },
    {
      "cell_type": "markdown",
      "metadata": {
        "id": "lkI54UFs_qNT"
      },
      "source": [
        "Обучите модель, предскажите значение на test выборке и запишите значение метрики на каждом фолде"
      ]
    },
    {
      "cell_type": "markdown",
      "metadata": {
        "id": "JdlW2NNp_qNT"
      },
      "source": [
        "\n",
        "Теперь используем совместную фильтрацию с кластеризацией.\n",
        "Совместная кластеризация - это объединение пользователей и элементов в кластеры с использованием методов кластеризации. Выделите три кластера. Чтобы получить прогнозируемый рейтинг, вам нужно будет суммировать три вещи:\n",
        "     1. Вы находите кластер для указанного рейтинга пользователя u и элемента i и определяете среднее значение этого кластера. Итак, вы найдете среднее значение кластера u_i.\n",
        "     2. Найдите среднее значение кластера элемента i и вычтите его из среднего рейтинга этого элемента.\n",
        "     3. Найдите среднее значение кластера пользователя u и вычтите его из среднего рейтинга этого пользователя.\n",
        "    \n",
        "Вы обнаружите, что для большинства из них RSME остается неизменным для всех K-фолдов."
      ]
    },
    {
      "cell_type": "markdown",
      "metadata": {
        "id": "mrUNLZ7r_qNU"
      },
      "source": [
        "Обучите модель, предскажите значение на test выборке и запишите значение метрики на каждом фолде"
      ]
    },
    {
      "cell_type": "code",
      "metadata": {
        "colab": {
          "base_uri": "https://localhost:8080/"
        },
        "id": "euUd4_ahfBSd",
        "outputId": "8a4a6576-9398-40eb-8626-75f6685acb75"
      },
      "source": [
        "from sklearn.metrics import mean_squared_error\r\n",
        "from surprise.model_selection import KFold\r\n",
        "from surprise import accuracy\r\n",
        "import surprise\r\n",
        "rmse = lambda y_true, y_pred: np.sqrt(mean_squared_error(y_true, y_pred))\r\n",
        "kSplit = surprise.model_selection.split.KFold(n_splits=10, shuffle=True)\r\n",
        "\r\n",
        "coClus = surprise.prediction_algorithms.co_clustering.CoClustering(n_cltr_u=4,n_cltr_i=4,n_epochs=25) \r\n",
        "rmseCo = []\r\n",
        "# -- TODO --\r\n",
        "for trainset, testset in kSplit.split(data): #проходимся по фолдам\r\n",
        "  coClus.fit(trainset)\r\n",
        "  predictions = coClus.test(testset)\r\n",
        "  rmseCo.append(surprise.accuracy.rmse(predictions))\r\n",
        "  \r\n",
        "print(rmseCo)"
      ],
      "execution_count": 19,
      "outputs": [
        {
          "output_type": "stream",
          "text": [
            "RMSE: 0.8769\n",
            "RMSE: 0.8803\n",
            "RMSE: 0.8717\n",
            "RMSE: 0.8730\n",
            "RMSE: 0.8739\n",
            "RMSE: 0.8708\n",
            "RMSE: 0.8731\n",
            "RMSE: 0.8757\n",
            "RMSE: 0.8807\n",
            "RMSE: 0.8716\n",
            "[0.8769301607264013, 0.8802756689900034, 0.8717386202058345, 0.8730248268957241, 0.8738504213853736, 0.8708154707689872, 0.8731067923223742, 0.8756637253531875, 0.8806883045847899, 0.8716014460184596]\n"
          ],
          "name": "stdout"
        }
      ]
    },
    {
      "cell_type": "markdown",
      "metadata": {
        "id": "x54bMxOV_qNU"
      },
      "source": [
        "Обучая нашу последнюю модель, мы будем использовать алгоритм совместной фильтрации Slope One. Этот алгоритм вычисляет наклон (slope) каждого из релевантных элементов, оцененных пользователем, находит разницу, а затем вычисляет прогноз. Это грубый инструмент, но это хорошая эвристика, которая может улучшить наш метод ансамбля. Подробнее читайте здесь: https://arxiv.org/abs/cs/0702144."
      ]
    },
    {
      "cell_type": "markdown",
      "metadata": {
        "id": "9bLI3ggG_qNV"
      },
      "source": [
        "Обучите модель, предскажите значение на test выборке и запишите значение метрики на каждом фолде"
      ]
    },
    {
      "cell_type": "code",
      "metadata": {
        "colab": {
          "base_uri": "https://localhost:8080/"
        },
        "id": "FdBjaaTsfuEw",
        "outputId": "1f50e3a4-9671-4388-887b-6422b465847e"
      },
      "source": [
        "from sklearn.metrics import mean_squared_error\r\n",
        "from surprise.model_selection import KFold\r\n",
        "from surprise import accuracy\r\n",
        "import surprise\r\n",
        "rmse = lambda y_true, y_pred: np.sqrt(mean_squared_error(y_true, y_pred))\r\n",
        "kSplit = surprise.model_selection.split.KFold(n_splits=10, shuffle=True)\r\n",
        "\r\n",
        "slopeOne = prediction_algorithms.slope_one.SlopeOne()\r\n",
        "rmseSlope = []\r\n",
        "# -- TODO --\r\n",
        "for trainset, testset in kSplit.split(data): #проходимся по фолдам\r\n",
        "  slopeOne.fit(trainset)\r\n",
        "  predictions = slopeOne.test(testset)\r\n",
        "  rmseSlope.append(surprise.accuracy.rmse(predictions))\r\n",
        "  \r\n",
        "print(rmseSlope)"
      ],
      "execution_count": 20,
      "outputs": [
        {
          "output_type": "stream",
          "text": [
            "RMSE: 0.8954\n",
            "RMSE: 0.8890\n",
            "RMSE: 0.8895\n",
            "RMSE: 0.8921\n",
            "RMSE: 0.8841\n",
            "RMSE: 0.8855\n",
            "RMSE: 0.8951\n",
            "RMSE: 0.8871\n",
            "RMSE: 0.8897\n",
            "RMSE: 0.8915\n",
            "[0.8953697200179772, 0.8890297311826104, 0.8895278067975585, 0.8921456116845374, 0.8840792342706941, 0.8855256212210844, 0.8950801550237794, 0.8870834374682495, 0.8897332683347515, 0.8914866369181608]\n"
          ],
          "name": "stdout"
        }
      ]
    },
    {
      "cell_type": "markdown",
      "metadata": {
        "id": "dM0vmDEd_qNV"
      },
      "source": [
        "Теперь у нас есть четыре рекомендательные системы, из которых мы хотим сделать ансамбль. Сначала давайте построим график каждого из них, чтобы увидеть, как они работают.\n",
        "\n",
        "Затем реализуем описанный алгоритм Ensemble для гибридного подхода."
      ]
    },
    {
      "cell_type": "code",
      "metadata": {
        "colab": {
          "base_uri": "https://localhost:8080/",
          "height": 296
        },
        "id": "32xoUDi2_qNV",
        "outputId": "c0545bd7-442d-4234-c3f2-765a8d27468e"
      },
      "source": [
        "#Отобразим предсказания:\n",
        "import matplotlib.pyplot as plt\n",
        "modelPrediction = plt.plot(rmseKNN, label='knn')\n",
        "modelPrediction = plt.plot(rmseSVD, label='svd')\n",
        "modelPrediction = plt.plot(rmseCo, label='cluster')\n",
        "modelPrediction = plt.plot(rmseSlope, label='slope')\n",
        "\n",
        "modelPrediction = plt.xlabel('folds')\n",
        "modelPrediction = plt.ylabel('rmse')\n",
        "plt.legend(bbox_to_anchor=(1.05, 1), loc=2, borderaxespad=0.)"
      ],
      "execution_count": 22,
      "outputs": [
        {
          "output_type": "execute_result",
          "data": {
            "text/plain": [
              "<matplotlib.legend.Legend at 0x7ff7ee3d0b70>"
            ]
          },
          "metadata": {
            "tags": []
          },
          "execution_count": 22
        },
        {
          "output_type": "display_data",
          "data": {
            "image/png": "[encoded data removed]",
            "text/plain": [
              "<Figure size 432x288 with 1 Axes>"
            ]
          },
          "metadata": {
            "tags": [],
            "needs_background": "light"
          }
        }
      ]
    },
    {
      "cell_type": "markdown",
      "metadata": {
        "id": "6n0eEQoA_qNW"
      },
      "source": [
        "Похоже, что svd превосходит остальные. Попробуем гибридизировать модели, чтобы получить лучшие части каждой модели. Для этого мы собираемся использовать Suprise, чтобы создать новый алгоритм, и сделать так, чтобы он превосходил остальные."
      ]
    },
    {
      "cell_type": "markdown",
      "metadata": {
        "id": "4SvDj-Ed_qNW"
      },
      "source": [
        "\n",
        "# На псевдокоде наш алгоритм выглядит следующим образом:\n",
        "1. Мы запускаем несколько рекомендательных систем для набора данных.\n",
        "2. Инициализируем взвешенную переменную alpha равную 1 / q, где q - количество используемых нами рекомендательных систем.\n",
        "3. Итоговый рейтинг будем считать как сумму взвещаных прогнозируемых рейтингов.\n",
        "4. Используя градиентный спуск, оптимизируем альфа-член по пространству параметров, чтобы иметь возможность придать наибольший вес модели, которая может представлять лучший прогноз."
      ]
    },
    {
      "cell_type": "markdown",
      "metadata": {
        "id": "ry-BFFJ8_qNW"
      },
      "source": [
        "Теперь создадим класс в Surprise и унаследуем его от Algobase."
      ]
    },
    {
      "cell_type": "code",
      "metadata": {
        "id": "hIO8dwDo_qNX"
      },
      "source": [
        "class HybridFacto(surprise.AlgoBase):\n",
        "    \n",
        "    def __init__(self, estimators=None, epochs=10, learning_rate=.05, q=4):\n",
        "        if estimators is None:\n",
        "            self.__stub_mode = True\n",
        "            return\n",
        "        self.alpha = np.array([1 / q] * q)\n",
        "        self.epochs = epochs\n",
        "        self.learning_rate = learning_rate\n",
        "        self.collabKNN = estimators[0]\n",
        "        self.funkSVD = estimators[1]\n",
        "        self.coClus = estimators[2]\n",
        "        self.slopeOne = estimators[3]\n",
        "        self.__stub_mode = False\n",
        "    \n",
        "    def fit(self, train_set):\n",
        "        holdout=train_set.build_full_trainset().build_testset()\n",
        "        predictions = []\n",
        "        predictions.append(self.collabKNN.test(holdout))\n",
        "        predictions.append(self.funkSVD.test(holdout))\n",
        "        predictions.append(self.coClus.test(holdout))\n",
        "        predictions.append(self.slopeOne.test(holdout))\n",
        "        for epoch in range(self.epochs):\n",
        "            maeGradient = np.array([surprise.accuracy.mae(prediction) for prediction in predictions])\n",
        "            newalpha =  self.alpha - maeGradient * self.learning_rate\n",
        "            #проверка сходимости:\n",
        "            if (newalpha - self.alpha).max() < 0.001:\n",
        "                break\n",
        "            self.alpha = newalpha\n",
        "            \n",
        "    def estimate(self,testset):\n",
        "        if self.__stub_mode:\n",
        "            return [0.0]\n",
        "        algoResults=[np.array([i.est for i in self.collabKNN.test(testset)]),\n",
        "                     np.array([i.est for i in self.funkSVD.test(testset)]),\n",
        "                     np.array([i.est for i in self.coClus.test(testset)]),\n",
        "                     np.array([i.est for i in self.slopeOne.test(testset)])]\n",
        "        return self.alpha @ algoResults\n",
        "        \n",
        "        \n",
        "    def dump_instance(self, dump_path):\n",
        "        with open(dump_path, 'wb') as dump_file:\n",
        "            pickle.dump(self, dump_file, pickle.HIGHEST_PROTOCOL)\n",
        "     \n",
        "    \n",
        "    @staticmethod\n",
        "    def load_instance_from_dump(dump_path):\n",
        "        with open(dump_path, 'rb') as dump_file:\n",
        "            return pickle.load(dump_file)\n",
        "        "
      ],
      "execution_count": 24,
      "outputs": []
    },
    {
      "cell_type": "markdown",
      "metadata": {
        "id": "Ool200Ol_qNX"
      },
      "source": [
        "давайте проверим его:\n",
        "1. Инициализруйте Гибридную модель с 10 эпохами, learning_rate = 0.05, по 4 имеющимся моделям и обучите на holdout выборке\n",
        "2. Посчитайте root mean squared error с использованием метрики из sklearn для получившегося результата\n",
        "3. Отобразите на графике результаты метрики, полученые от одиночных моделей на предыдущих шагах вместе с результатом гибридной модели. Оцените результат"
      ]
    },
    {
      "cell_type": "code",
      "metadata": {
        "colab": {
          "base_uri": "https://localhost:8080/"
        },
        "id": "2EAxa3kG_qNY",
        "outputId": "ffc40224-be49-476c-d5bb-9fc1e3f82331"
      },
      "source": [
        "from sklearn.metrics import mean_squared_error\n",
        "from math import sqrt\n",
        "\n",
        "estimators = [collabKNN,\\\n",
        "              funkSVD,\\\n",
        "              coClus,\\\n",
        "              slopeOne]\n",
        "\n",
        "hybrid = HybridFacto(estimators)\n",
        "hybrid.fit(holdout)\n",
        "kSplit = model_selection.split.KFold(n_splits=10, shuffle=True)\n",
        "\n",
        "rmseHyb = []\n",
        "for trainset, testset in kSplit.split(data):\n",
        "    predhybrid = hybrid.estimate(testset)\n",
        "    test_r = [i[2] for i in testset]\n",
        "    fold_rmse = mean_squared_error(test_r, predhybrid)\n",
        "    rmseHyb.append(fold_rmse)"
      ],
      "execution_count": 65,
      "outputs": [
        {
          "output_type": "stream",
          "text": [
            "MAE:  0.7803\n",
            "MAE:  0.7228\n",
            "MAE:  0.7803\n",
            "MAE:  0.7803\n"
          ],
          "name": "stdout"
        }
      ]
    },
    {
      "cell_type": "code",
      "metadata": {
        "colab": {
          "base_uri": "https://localhost:8080/",
          "height": 296
        },
        "id": "-nFRjAk6_qNZ",
        "outputId": "3c0aeba7-3f84-4e75-95df-c980d1ca5fc4"
      },
      "source": [
        "#plotting the prediction data:\n",
        "modelPrediction = plt.plot(rmseKNN, label='knn')\n",
        "modelPrediction = plt.plot(rmseSVD, label='svd')\n",
        "modelPrediction = plt.plot(rmseCo, label='cluster')\n",
        "modelPrediction = plt.plot(rmseSlope, label='slope')\n",
        "modelPrediction = plt.plot(rmseHyb, label='hybrid')\n",
        "\n",
        "modelPrediction = plt.xlabel('folds')\n",
        "modelPrediction = plt.ylabel('rmse')\n",
        "plt.legend(bbox_to_anchor=(1.05, 1), loc=2, borderaxespad=0.)"
      ],
      "execution_count": 67,
      "outputs": [
        {
          "output_type": "execute_result",
          "data": {
            "text/plain": [
              "<matplotlib.legend.Legend at 0x7ff7e00b96d8>"
            ]
          },
          "metadata": {
            "tags": []
          },
          "execution_count": 67
        },
        {
          "output_type": "display_data",
          "data": {
            "image/png": "[encoded data removed]",
            "text/plain": [
              "<Figure size 432x288 with 1 Axes>"
            ]
          },
          "metadata": {
            "tags": [],
            "needs_background": "light"
          }
        }
      ]
    },
    {
      "cell_type": "markdown",
      "metadata": {
        "id": "cdYJnVOb_qNZ"
      },
      "source": [
        "## Задание\n",
        "\n",
        "Сохраните обученные модели для использования гибридного подхода и реализуйте возможность предсказания результата для id пользователя и фильма через веб-интерфейс с помощью REST-API фреймворка (flask/django)"
      ]
    },
    {
      "cell_type": "code",
      "metadata": {
        "id": "MXgGvMoU_qNZ"
      },
      "source": [
        "hybrid.dump_instance('/content/drive/MyDrive/recomendation.pkl')"
      ],
      "execution_count": 68,
      "outputs": []
    },
    {
      "cell_type": "code",
      "metadata": {
        "id": "sH2Opa8F_qNZ"
      },
      "source": [
        "hybrid_loaded_from_dump = HybridFacto.load_instance_from_dump('/content/drive/MyDrive/recomendation.pkl')"
      ],
      "execution_count": 69,
      "outputs": []
    },
    {
      "cell_type": "code",
      "metadata": {
        "colab": {
          "base_uri": "https://localhost:8080/"
        },
        "id": "Z759lltY_qNa",
        "outputId": "a881bc79-7c9c-4ad5-8849-6ec0a2785254"
      },
      "source": [
        "to_predict = [(1, 1000, None)]\n",
        "predicted = hybrid_loaded_from_dump.estimate(to_predict)\n",
        "print(predicted)"
      ],
      "execution_count": 77,
      "outputs": [
        {
          "output_type": "stream",
          "text": [
            "[3.76252573]\n"
          ],
          "name": "stdout"
        }
      ]
    }
  ]
}